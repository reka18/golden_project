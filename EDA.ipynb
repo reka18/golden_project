{
 "cells": [
  {
   "cell_type": "code",
   "execution_count": 1,
   "metadata": {},
   "outputs": [],
   "source": [
    "import pandas as pd\n",
    "import numpy as np\n",
    "import string\n",
    "pd.set_option('display.max_columns', None)"
   ]
  },
  {
   "cell_type": "code",
   "execution_count": 2,
   "metadata": {},
   "outputs": [],
   "source": [
    "df = pd.read_csv('Registered_Business_Locations_-_San_Francisco.csv')"
   ]
  },
  {
   "cell_type": "code",
   "execution_count": 3,
   "metadata": {},
   "outputs": [
    {
     "data": {
      "text/plain": [
       "265717"
      ]
     },
     "execution_count": 3,
     "metadata": {},
     "output_type": "execute_result"
    }
   ],
   "source": [
    "len(df)"
   ]
  },
  {
   "cell_type": "raw",
   "metadata": {},
   "source": [
    "Requirements:\n",
    "    Business Location present\n",
    "    Business End Date not present\n",
    "    \n",
    "Insert columns:\n",
    "    DBA Name\n",
    "    Steet Address\n",
    "    City\n",
    "    State\n",
    "    Zip\n",
    "    Location Start Date\n",
    "    Location End Date\n",
    "    Neighborhood - Analysis Boundaries\n",
    "    Business Location\n",
    "Notes:\n",
    "    Business Location is stored here as Lat/Long instead of the standard Long/Lat so reversal is needed for geometry data type"
   ]
  },
  {
   "cell_type": "code",
   "execution_count": 4,
   "metadata": {},
   "outputs": [],
   "source": [
    "no_missing_locations = df[df['Business Location'].notnull()]\n",
    "data = no_missing_locations[['DBA Name', 'Street Address', 'City', 'State', 'Source Zipcode', 'Location Start Date', 'Location End Date', 'Neighborhoods - Analysis Boundaries', 'Business Location']]"
   ]
  },
  {
   "cell_type": "code",
   "execution_count": 6,
   "metadata": {},
   "outputs": [
    {
     "data": {
      "text/plain": [
       "265716"
      ]
     },
     "execution_count": 6,
     "metadata": {},
     "output_type": "execute_result"
    }
   ],
   "source": [
    "len(data)"
   ]
  },
  {
   "cell_type": "code",
   "execution_count": 7,
   "metadata": {},
   "outputs": [],
   "source": [
    "def hasNumber(text):\n",
    "    try:\n",
    "        int(text)\n",
    "        return False\n",
    "    except:\n",
    "        try:\n",
    "            int(text[0])\n",
    "            return False\n",
    "        except:\n",
    "            return True"
   ]
  },
  {
   "cell_type": "code",
   "execution_count": 8,
   "metadata": {},
   "outputs": [],
   "source": [
    "def remove_punctuations(text):\n",
    "    for punctuation in string.punctuation:\n",
    "        text = text.replace(punctuation, ' ')\n",
    "    return text"
   ]
  },
  {
   "cell_type": "code",
   "execution_count": 9,
   "metadata": {},
   "outputs": [],
   "source": [
    "data = data[data['State'].str.upper() == 'CA']\n",
    "data = data[data['City'].apply(isinstance, args=(str,))]\n",
    "data = data[data['City'].apply(hasNumber)]\n",
    "data = data[data['City'].notnull()]\n",
    "data = data[data['State'].notnull()]\n",
    "data = data[data['Neighborhoods - Analysis Boundaries'].notnull()]\n",
    "\n",
    "data['City'] = data['City'].apply(remove_punctuations).str.upper().str.strip()\n",
    "data = data[data['City'] != 'N A']\n",
    "data['State'] = data['State'].str.upper()\n",
    "data['Neighborhoods - Analysis Boundaries'] = data['Neighborhoods - Analysis Boundaries'].str.upper()"
   ]
  },
  {
   "cell_type": "code",
   "execution_count": 10,
   "metadata": {},
   "outputs": [
    {
     "data": {
      "text/plain": [
       "218604"
      ]
     },
     "execution_count": 10,
     "metadata": {},
     "output_type": "execute_result"
    }
   ],
   "source": [
    "len(data)"
   ]
  },
  {
   "cell_type": "code",
   "execution_count": 11,
   "metadata": {},
   "outputs": [],
   "source": [
    "cities = data['City'].unique()\n",
    "SAN_FRAN = 'SAN FRANCISCO'\n",
    "LIKELY_MISSPELLINGS = ['S F', \n",
    "                       'S FRANCISCO',\n",
    "                       'S SAN FRAN',\n",
    "                       'SAM FRANCISCO',\n",
    "                       'SANC FRANCISCO',\n",
    "                       'SF',\n",
    "                       'SAN',\n",
    "                       'SA',\n",
    "                       'SN FRANCISCO',\n",
    "                       'SNA FRANCISCO',\n",
    "                       'SOUTH SAN FRANCISCO',\n",
    "                       'TREASURE ISLAND  SAN FRANCISCO',\n",
    "                       'TREASURE ISLAND']\n",
    "for i in sorted(cities):\n",
    "    if str(i).startswith('SAN F'):\n",
    "        LIKELY_MISSPELLINGS.append(i)"
   ]
  },
  {
   "cell_type": "code",
   "execution_count": 12,
   "metadata": {},
   "outputs": [],
   "source": [
    "def add_mispelled(city):\n",
    "    if str(city).startswith('SAN F'):\n",
    "        LIKELY_MISSPELLINGS.append(city)"
   ]
  },
  {
   "cell_type": "code",
   "execution_count": 13,
   "metadata": {},
   "outputs": [],
   "source": [
    "def replace(mistake):\n",
    "    if mistake in LIKELY_MISSPELLINGS:\n",
    "        return SAN_FRAN"
   ]
  },
  {
   "cell_type": "code",
   "execution_count": 14,
   "metadata": {},
   "outputs": [],
   "source": [
    "data['City'] = data['City'].apply(replace)"
   ]
  },
  {
   "cell_type": "code",
   "execution_count": 15,
   "metadata": {},
   "outputs": [],
   "source": [
    "data = data[data['City'] == SAN_FRAN]"
   ]
  },
  {
   "cell_type": "code",
   "execution_count": 16,
   "metadata": {},
   "outputs": [
    {
     "data": {
      "text/plain": [
       "218008"
      ]
     },
     "execution_count": 16,
     "metadata": {},
     "output_type": "execute_result"
    }
   ],
   "source": [
    "len(data)"
   ]
  },
  {
   "cell_type": "code",
   "execution_count": 17,
   "metadata": {},
   "outputs": [],
   "source": [
    "neighborhoods = data['Neighborhoods - Analysis Boundaries'].unique()\n",
    "states = data['State'].unique()\n",
    "cities = data['City'].unique()"
   ]
  },
  {
   "cell_type": "code",
   "execution_count": null,
   "metadata": {},
   "outputs": [],
   "source": [
    "data[data['Neighborhoods - Analysis Boundaries'] == 'EXCELSIOR']"
   ]
  },
  {
   "cell_type": "code",
   "execution_count": null,
   "metadata": {},
   "outputs": [],
   "source": [
    "def extract_point(text):\n",
    "    text = text.replace('POINT (', '').replace(')', '').split(' ')\n",
    "    text = f'{text[1]},{text[0]}'\n",
    "    return text"
   ]
  },
  {
   "cell_type": "code",
   "execution_count": null,
   "metadata": {},
   "outputs": [],
   "source": [
    "data['Business Location'] = data['Business Location'].apply(extract_point)\n",
    "data['Location End Date'] = data['Location End Date'].fillna('')"
   ]
  },
  {
   "cell_type": "code",
   "execution_count": null,
   "metadata": {},
   "outputs": [],
   "source": [
    "data"
   ]
  }
 ],
 "metadata": {
  "kernelspec": {
   "display_name": "Python 3",
   "language": "python",
   "name": "python3"
  },
  "language_info": {
   "codemirror_mode": {
    "name": "ipython",
    "version": 3
   },
   "file_extension": ".py",
   "mimetype": "text/x-python",
   "name": "python",
   "nbconvert_exporter": "python",
   "pygments_lexer": "ipython3",
   "version": "3.7.7"
  }
 },
 "nbformat": 4,
 "nbformat_minor": 4
}
